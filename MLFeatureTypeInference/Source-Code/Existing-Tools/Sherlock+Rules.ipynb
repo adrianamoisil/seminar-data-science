{
 "cells": [
  {
   "cell_type": "markdown",
   "metadata": {},
   "source": [
    "Follow the Sherlock data repo for complete installation instruction: https://github.com/mitmedialab/sherlock-project/tree/8d6411d793dfcfacae0bd300b806e023d0644e95\n",
    "        "
   ]
  },
  {
   "cell_type": "code",
   "execution_count": null,
   "metadata": {},
   "outputs": [],
   "source": [
    "import pandas as pd\n",
    "import numpy as np\n",
    "import sys\n",
    "import tensorflow as tf\n",
    "import matplotlib.pyplot as plt\n",
    "from ast import literal_eval\n",
    "from sklearn.preprocessing import LabelEncoder\n",
    "from sklearn.metrics import f1_score\n",
    "import re\n",
    "sys.path.append(\"..\")"
   ]
  },
  {
   "cell_type": "code",
   "execution_count": null,
   "metadata": {},
   "outputs": [],
   "source": [
    "from src.features.build_features import build_features\n",
    "from src.features.build_features import _get_data\n",
    "from src.deploy.train_sherlock import train_sherlock\n",
    "from src.deploy.predict_sherlock import predict_sherlock"
   ]
  },
  {
   "cell_type": "code",
   "execution_count": null,
   "metadata": {},
   "outputs": [],
   "source": [
    "_get_data()"
   ]
  },
  {
   "cell_type": "code",
   "execution_count": null,
   "metadata": {},
   "outputs": [],
   "source": [
    "testdf = pd.read_csv('../../Benchmark-Labeled-Data/data_test.csv')\n",
    "test_metadata = pd.read_csv('../../RawCSV/Metadata/meta_data.csv')\n",
    "\n",
    "test_merged = pd.merge(testdf,test_metadata,on='Record_id')\n",
    "y_true = test_merged.y_act.values.tolist()"
   ]
  },
  {
   "cell_type": "code",
   "execution_count": null,
   "metadata": {},
   "outputs": [],
   "source": [
    "test_merged['list_vals'] = \"\"\n",
    "test_merged"
   ]
  },
  {
   "cell_type": "code",
   "execution_count": null,
   "metadata": {
    "scrolled": true
   },
   "outputs": [],
   "source": [
    "for row in test_merged.itertuples():\n",
    "    if row.Index%100 == 0: print(row.Index)\n",
    "    col = getattr(row,'Attribute_name')\n",
    "    csv_name = '../../RawCSV/RawCSVFiles/' + getattr(row,'name')\n",
    "    \n",
    "    df = pd.read_csv(csv_name,encoding='latin1')\n",
    "    \n",
    "    try:\n",
    "        df_col = df[col].tolist()\n",
    "        test_merged.at[row.Index,'list_vals'] = df_col\n",
    "    except KeyError: test_merged.at[row.Index,'list_vals'] = []"
   ]
  },
  {
   "cell_type": "code",
   "execution_count": null,
   "metadata": {},
   "outputs": [],
   "source": [
    "sherlock_df = test_merged[[\"list_vals\", \"y_act\"]]\n",
    "\n",
    "for index, row in sherlock_df.iterrows():\n",
    "    if row[\"list_vals\"] == []:\n",
    "        sherlock_df.at[index, \"list_vals\"] = [\"\"]\n",
    "    else:\n",
    "        templst = []\n",
    "        flag = 1\n",
    "        for x in row[\"list_vals\"]:\n",
    "            if x != x: continue\n",
    "        \n",
    "            try: abc = int(x)\n",
    "            except:\n",
    "                flag = 0\n",
    "                break\n",
    "            try: abc = float(x)\n",
    "            except:\n",
    "                flag = 0\n",
    "                break\n",
    "            \n",
    "        for x in row[\"list_vals\"]:\n",
    "            if x != x:\n",
    "                templst.append(\"0\")\n",
    "                continue\n",
    "            \n",
    "            if flag: temp = x\n",
    "            else: temp = x\n",
    "                \n",
    "            templst.append(temp)\n",
    "        sherlock_df.at[index, \"list_vals\"] = templst\n",
    "    \n",
    "sherlock_df"
   ]
  },
  {
   "cell_type": "code",
   "execution_count": null,
   "metadata": {},
   "outputs": [],
   "source": [
    "sherlock_df1 = sherlock_df['list_vals']\n",
    "sherlock_df1"
   ]
  },
  {
   "cell_type": "code",
   "execution_count": null,
   "metadata": {
    "scrolled": true
   },
   "outputs": [],
   "source": [
    "X_test = build_features(sherlock_df1)"
   ]
  },
  {
   "cell_type": "code",
   "execution_count": null,
   "metadata": {},
   "outputs": [],
   "source": [
    "predicted_labels = predict_sherlock(X_test, nn_id='sherlock')\n",
    "predicted_labels"
   ]
  },
  {
   "cell_type": "code",
   "execution_count": null,
   "metadata": {},
   "outputs": [],
   "source": [
    "label_df = pd.DataFrame(predicted_labels,columns=['label'])\n",
    "\n",
    "df = test_merged[['y_act', 'Attribute_name','sample_1','sample_2','sample_3','sample_4','sample_5','total_vals', 'num_nans', '%_nans', 'num_of_dist_val' ,'%_dist_val']]\n",
    "df = df.fillna(0)\n",
    "\n",
    "df['label'] = label_df['label']\n",
    "df['ColumnA'] = df[df.columns[2:7]].apply(lambda x: '$#$'.join(x.dropna().astype(str)), axis=1 )\n"
   ]
  },
  {
   "cell_type": "code",
   "execution_count": null,
   "metadata": {},
   "outputs": [],
   "source": [
    "curdf = pd.read_csv('Semantic2FeatureType_Mapping.csv') # Load Semantic Types to Feature Type Mappings"
   ]
  },
  {
   "cell_type": "code",
   "execution_count": null,
   "metadata": {},
   "outputs": [],
   "source": [
    "curdic = {}\n",
    "for i,row in curdf.iterrows():\n",
    "    if row['type'] not in curdic:\n",
    "        curdic[row['type']] = []\n",
    "        if row['l0'] == row['l0']: curdic[row['type']].append(row['l0'])\n",
    "        if row['l1'] == row['l1']: curdic[row['type']].append(row['l1'])\n",
    "        if row['l2'] == row['l2']: curdic[row['type']].append(row['l2'])            \n",
    "        if row['l3'] == row['l3']: curdic[row['type']].append(row['l3'])"
   ]
  },
  {
   "cell_type": "code",
   "execution_count": null,
   "metadata": {
    "scrolled": true
   },
   "outputs": [],
   "source": [
    "delimeters = r\"(,|;|\\|)\"\n",
    "delimeters = re.compile(delimeters)\n",
    "\n",
    "del_pattern = r\"\\b[0-9]+[a-zA-Z \\% \\$]+\"\n",
    "del_reg = re.compile(del_pattern)\n",
    "\n",
    "def func(lst):\n",
    "    lst = list(lst.split('$#$'))\n",
    "    try:\n",
    "        lst = [float(i) for i in lst]\n",
    "    except ValueError: f=1\n",
    "    \n",
    "    if all(isinstance(x, int) for x in lst) or all(isinstance(x, float) for x in lst): return 1\n",
    "    else: return 0\n",
    "\n",
    "df['isNumeric'] = df['ColumnA'].apply(lambda x: func(x))\n"
   ]
  },
  {
   "cell_type": "code",
   "execution_count": null,
   "metadata": {
    "scrolled": true
   },
   "outputs": [],
   "source": [
    "ysherlock = []\n",
    "yact = []\n",
    "\n",
    "for i,row in df.iterrows():\n",
    "    if len(curdic[row['label']]) == 1: \n",
    "        ysherlock.append(curdic[row['label']][0])\n",
    "        yact.append(row['y_act'])\n",
    "        \n",
    "        \n",
    "    elif row['label'] in ['age', 'result', 'plays', 'ranking']:\n",
    "        if row['isNumeric'] == 1: ysherlock.append('Numeric')\n",
    "        elif del_reg.match(str(row['sample_1'])) or del_reg.match(str(row['sample_2'])) or del_reg.match(str(row['sample_3'])) or del_reg.match(str(row['sample_4'])) or del_reg.match(str(row['sample_5'])):\n",
    "            ysherlock.append('Embedded Number')\n",
    "        else: ysherlock.append('Categorical')\n",
    "        yact.append(row['y_act'])\n",
    "        \n",
    "        \n",
    "    elif row['label'] in ['sales', 'rank', 'elevation', 'weight'] :\n",
    "        if row['isNumeric'] == 1: ysherlock.append('Numeric')\n",
    "        else: ysherlock.append('Embedded Number')\n",
    "        yact.append(row['y_act'])\n",
    "        \n",
    "        \n",
    "    elif row['label'] in ['area','position', 'depth']: \n",
    "        if row['isNumeric'] == 1: ysherlock.append('Numeric')\n",
    "        else: ysherlock.append('Categorical')\n",
    "        yact.append(row['y_act'])   \n",
    "        \n",
    "\n",
    "    elif row['label'] in ['command']:\n",
    "        templst = [len(str(row['sample_1']).split(' ')), len(str(row['sample_2']).split(' ')), len(str(row['sample_3']).split(' ')), len(str(row['sample_4']).split(' ')), len(str(row['sample_5']).split(' '))]\n",
    "#         print(templst)\n",
    "        if np.mean(templst) > 3: ysherlock.append('Sentence')\n",
    "        else: ysherlock.append('Categorical')\n",
    "        yact.append(row['y_act'])\n",
    "        \n",
    "    elif row['label'] in ['code']:\n",
    "        if row['%_dist_val'] > 99.99 or row['num_of_dist_val'] == 1 or row['total_vals'] == row['num_nans']: ysherlock.append('Not-Generalizable')\n",
    "        else: ysherlock.append('Categorical')\n",
    "        yact.append(row['y_act'])\n",
    "        \n",
    "    elif row['label'] in ['day','duration', 'year']:\n",
    "        try: \n",
    "            pd.Timestamp(row['sample_1'])\n",
    "            ysherlock.append('Datetime')\n",
    "        except ValueError:  ysherlock.append('Categorical')\n",
    "        yact.append(row['y_act'])\n",
    "        \n",
    "    elif row['label'] in ['order']: \n",
    "        if row['isNumeric'] == 1: ysherlock.append('Context-Specific')\n",
    "        else: ysherlock.append('Categorical')\n",
    "        yact.append(row['y_act'])   \n",
    "                \n",
    "    elif row['label'] in ['range']: \n",
    "        if del_reg.match(str(row['sample_1'])) or del_reg.match(str(row['sample_2'])) or del_reg.match(str(row['sample_3'])) or del_reg.match(str(row['sample_4'])) or del_reg.match(str(row['sample_5'])):\n",
    "            ysherlock.append('Embedded Number')\n",
    "        else: ysherlock.append('Categorical')\n",
    "        yact.append(row['y_act'])\n",
    "        \n",
    "    elif row['label'] in ['genre','collection']:\n",
    "        if len(delimeters.findall(str(str(row['sample_1'])))) > 1: ysherlock.append('List')\n",
    "        else: ysherlock.append('Categorical')\n",
    "        yact.append(row['y_act'])\n",
    "        \n",
    "#     else:\n",
    "#         print(row)\n",
    "#         print(row['label'])"
   ]
  },
  {
   "cell_type": "code",
   "execution_count": null,
   "metadata": {},
   "outputs": [],
   "source": [
    "len(ysherlock)"
   ]
  },
  {
   "cell_type": "code",
   "execution_count": null,
   "metadata": {},
   "outputs": [],
   "source": [
    "dict_label = {\n",
    "    'Numeric': 0,\n",
    "    'Categorical': 1,\n",
    "    'Datetime':2, \n",
    "    'Sentence':3, \n",
    "    'URL': 4, \n",
    "    'Embedded Number': 5, \n",
    "    'List': 6,\n",
    "    'Not-Generalizable': 7,\n",
    "    'Custom Object': 8,    \n",
    "    'Context-Specific': 8    \n",
    "}\n",
    "\n",
    "ysherlock1 = [dict_label[x] for x in ysherlock]"
   ]
  },
  {
   "cell_type": "code",
   "execution_count": null,
   "metadata": {},
   "outputs": [],
   "source": [
    "from sklearn.metrics import accuracy_score, confusion_matrix\n",
    "print(accuracy_score(yact, ysherlock1))\n",
    "print(confusion_matrix(yact, ysherlock1))"
   ]
  }
 ],
 "metadata": {
  "kernelspec": {
   "display_name": "Python 3",
   "language": "python",
   "name": "python3"
  },
  "language_info": {
   "codemirror_mode": {
    "name": "ipython",
    "version": 3
   },
   "file_extension": ".py",
   "mimetype": "text/x-python",
   "name": "python",
   "nbconvert_exporter": "python",
   "pygments_lexer": "ipython3",
   "version": "3.7.6"
  },
  "toc": {
   "base_numbering": 1,
   "nav_menu": {},
   "number_sections": false,
   "sideBar": false,
   "skip_h1_title": false,
   "title_cell": "Table of Contents",
   "title_sidebar": "Contents",
   "toc_cell": false,
   "toc_position": {},
   "toc_section_display": false,
   "toc_window_display": false
  }
 },
 "nbformat": 4,
 "nbformat_minor": 5
}
