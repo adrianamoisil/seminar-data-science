{
 "cells": [
  {
   "cell_type": "markdown",
   "metadata": {},
   "source": [
    "# auto-sklearn"
   ]
  },
  {
   "cell_type": "code",
   "execution_count": null,
   "metadata": {},
   "outputs": [],
   "source": []
  },
  {
   "cell_type": "markdown",
   "metadata": {},
   "source": [
    "# klib"
   ]
  },
  {
   "cell_type": "code",
   "execution_count": 1,
   "metadata": {},
   "outputs": [
    {
     "ename": "AttributeError",
     "evalue": "module 'klib' has no attribute 'data_types'",
     "output_type": "error",
     "traceback": [
      "\u001b[0;31m---------------------------------------------------------------------------\u001b[0m",
      "\u001b[0;31mAttributeError\u001b[0m                            Traceback (most recent call last)",
      "\u001b[1;32m/home/adriana/Documents/ML-Data-Prep-Zoo/NewExperiments/feature_type_inference.ipynb Cell 4\u001b[0m line \u001b[0;36m1\n\u001b[1;32m     <a href='vscode-notebook-cell:/home/adriana/Documents/ML-Data-Prep-Zoo/NewExperiments/feature_type_inference.ipynb#W3sZmlsZQ%3D%3D?line=11'>12</a>\u001b[0m df \u001b[39m=\u001b[39m pd\u001b[39m.\u001b[39mDataFrame(data)\n\u001b[1;32m     <a href='vscode-notebook-cell:/home/adriana/Documents/ML-Data-Prep-Zoo/NewExperiments/feature_type_inference.ipynb#W3sZmlsZQ%3D%3D?line=13'>14</a>\u001b[0m \u001b[39m# Use klib.data_types to infer feature data types\u001b[39;00m\n\u001b[0;32m---> <a href='vscode-notebook-cell:/home/adriana/Documents/ML-Data-Prep-Zoo/NewExperiments/feature_type_inference.ipynb#W3sZmlsZQ%3D%3D?line=14'>15</a>\u001b[0m feature_types \u001b[39m=\u001b[39m klib\u001b[39m.\u001b[39;49mdata_types(df)\n\u001b[1;32m     <a href='vscode-notebook-cell:/home/adriana/Documents/ML-Data-Prep-Zoo/NewExperiments/feature_type_inference.ipynb#W3sZmlsZQ%3D%3D?line=16'>17</a>\u001b[0m \u001b[39m# Print the inferred data types\u001b[39;00m\n\u001b[1;32m     <a href='vscode-notebook-cell:/home/adriana/Documents/ML-Data-Prep-Zoo/NewExperiments/feature_type_inference.ipynb#W3sZmlsZQ%3D%3D?line=17'>18</a>\u001b[0m \u001b[39mprint\u001b[39m(feature_types)\n",
      "\u001b[0;31mAttributeError\u001b[0m: module 'klib' has no attribute 'data_types'"
     ]
    }
   ],
   "source": [
    "import pandas as pd\n",
    "import klib\n",
    "\n",
    "# Create a sample DataFrame\n",
    "data = {\n",
    "    'age': [30, 25, 35, 40],\n",
    "    'name': ['Alice', 'Bob', 'Charlie', 'David'],\n",
    "    'score': [95.5, 87.0, 92.5, 78.0],\n",
    "    'is_student': [1, 0, 0, 1]\n",
    "}\n",
    "\n",
    "df = pd.DataFrame(data)\n",
    "\n",
    "# Use klib.data_types to infer feature data types\n",
    "feature_types = klib.data_types(df)\n",
    "\n",
    "# Print the inferred data types\n",
    "print(feature_types)"
   ]
  },
  {
   "cell_type": "markdown",
   "metadata": {},
   "source": [
    "# feature_engine"
   ]
  },
  {
   "cell_type": "code",
   "execution_count": 5,
   "metadata": {},
   "outputs": [
    {
     "data": {
      "text/plain": [
       "['age', 'name', 'score', 'is_student']"
      ]
     },
     "execution_count": 5,
     "metadata": {},
     "output_type": "execute_result"
    }
   ],
   "source": [
    "import pandas as pd\n",
    "import feature_engine.variable_handling as fe_vh\n",
    "\n",
    "# Create a sample DataFrame\n",
    "data = {\n",
    "    'age': [30, 25, 35, 40],\n",
    "    'name': ['Alice', 'Bob', 'Charlie', 'David'],\n",
    "    'score': [95.5, 87.0, 92.5, 78.0],\n",
    "    'is_student': [True, False, False, True]\n",
    "}\n",
    "\n",
    "df = pd.DataFrame(data)\n",
    "\n",
    "fe_vh.find_all_variables(df)"
   ]
  },
  {
   "cell_type": "code",
   "execution_count": null,
   "metadata": {},
   "outputs": [],
   "source": []
  }
 ],
 "metadata": {
  "kernelspec": {
   "display_name": "venv",
   "language": "python",
   "name": "python3"
  },
  "language_info": {
   "codemirror_mode": {
    "name": "ipython",
    "version": 3
   },
   "file_extension": ".py",
   "mimetype": "text/x-python",
   "name": "python",
   "nbconvert_exporter": "python",
   "pygments_lexer": "ipython3",
   "version": "3.8.18"
  }
 },
 "nbformat": 4,
 "nbformat_minor": 2
}
